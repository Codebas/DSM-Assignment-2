{
 "cells": [
  {
   "cell_type": "markdown",
   "id": "1a16430c-de19-4a85-8604-95b77e9b26f1",
   "metadata": {},
   "source": [
    "#1 Answer"
   ]
  },
  {
   "cell_type": "markdown",
   "id": "52f4fc6a-cb35-4880-a72f-c569f8f95b76",
   "metadata": {},
   "source": [
    "Single-line comments: To create a single-line comment, you use the # symbol. Everything after the # on the same line is considered a comment and is ignored by the Python interpreter.Single-line comments: To create a single-line comment, you use the # symbol. Everything after the # on the same line is considered a comment and is ignored by the Python interpreter."
   ]
  },
  {
   "cell_type": "markdown",
   "id": "4ff83626-b460-4aeb-954d-350637ab8c45",
   "metadata": {},
   "source": [
    "# This is a single-line comment\n",
    "\n",
    "print(\"Hello, World!\")  # This line prints a greeting"
   ]
  },
  {
   "cell_type": "markdown",
   "id": "cfbb5333-467a-4bf3-9e00-53127bfb8b42",
   "metadata": {},
   "source": [
    " Multi-line comments: Multi-line comments are used for longer explanations or documentation. In Python, multi-line comments are created using triple quotes (''' or \"\"\"). Anything between the opening and closing triple quotes is considered a comment."
   ]
  },
  {
   "cell_type": "code",
   "execution_count": 2,
   "id": "f35091a5-e98f-41b9-9de2-c66463344ee4",
   "metadata": {},
   "outputs": [
    {
     "name": "stdout",
     "output_type": "stream",
     "text": [
      "Hello, World!\n"
     ]
    }
   ],
   "source": [
    "\"\"\"\n",
    "This is a multi-line comment.\n",
    "It can span multiple lines.\n",
    "\"\"\"\n",
    "\n",
    "'''\n",
    "This is another way to create a multi-line comment.\n",
    "'''\n",
    "\n",
    "print(\"Hello, World!\")"
   ]
  },
  {
   "cell_type": "markdown",
   "id": "42139e21-a651-4869-8287-49f2d8c04d6c",
   "metadata": {},
   "source": [
    "#2Answer"
   ]
  },
  {
   "cell_type": "markdown",
   "id": "e7b30105-be76-4711-98e3-8e5d780779e3",
   "metadata": {},
   "source": [
    "In Python, variables are used to store and manipulate data. A variable is a named location in the computer's memory where a value can be stored. Unlike some other programming languages, Python is dynamically typed, which means you don't need to declare the type of a variable explicitly.\n",
    "\n",
    "To declare and assign values to variables in Python, you can use the following syntax:"
   ]
  },
  {
   "cell_type": "code",
   "execution_count": 4,
   "id": "b60892c1-1bb4-478f-84a3-4dd7b57d41c3",
   "metadata": {},
   "outputs": [],
   "source": [
    "# Assigning integer value to a variable\n",
    "age = 25\n",
    "\n",
    "# Assigning string value to a variable\n",
    "name = \"John Doe\"\n",
    "\n",
    "# Assigning floating-point value to a variable\n",
    "pi = 3.14\n",
    "\n",
    "# Assigning boolean value to a variable\n",
    "is_active = True"
   ]
  },
  {
   "cell_type": "markdown",
   "id": "0d726d79-6be5-4ae6-b7cc-fab67e57e730",
   "metadata": {},
   "source": [
    "In the above examples, we declare variables age, name, pi, and is_active and assign them integer, string, floating-point, and boolean values, respectively.\n",
    "\n",
    "Python infers the data type of the variable based on the value assigned to it. This allows you to assign different types of values to the same variable during the execution of the program.\n",
    "\n",
    "It's worth noting that variable names in Python are case-sensitive, and they should follow certain naming conventions. Generally, variable names should be descriptive and follow the snake_case style, using lowercase letters with underscores between words (e.g., my_variable, user_age, total_count). It's also recommended to use meaningful names that reflect the purpose or content of the variable."
   ]
  },
  {
   "cell_type": "markdown",
   "id": "78eddc95-0eaa-4f88-b983-357c27dadfe5",
   "metadata": {},
   "source": [
    "#3 Answer"
   ]
  },
  {
   "cell_type": "markdown",
   "id": "130d220c-e533-4330-a38c-ff26cb9a9370",
   "metadata": {},
   "source": [
    "n Python, you can convert one data type to another using type conversion functions or methods. Here are some commonly used methods for type conversion:\n",
    "\n",
    "1 int(): Converts a value to an integer data type."
   ]
  },
  {
   "cell_type": "code",
   "execution_count": 5,
   "id": "efc422be-1ac6-4afd-9c0e-e8aa580e33b0",
   "metadata": {},
   "outputs": [
    {
     "name": "stdout",
     "output_type": "stream",
     "text": [
      "3\n",
      "42\n"
     ]
    }
   ],
   "source": [
    "x = int(3.14)  # Converts float to int\n",
    "print(x)  \n",
    "\n",
    "y = int(\"42\")  # Converts string to int\n",
    "print(y)  "
   ]
  },
  {
   "cell_type": "markdown",
   "id": "02d3b850-f0d3-4df0-aabb-60885b2b89c5",
   "metadata": {},
   "source": [
    "2 float(): Converts a value to a floating-point data type."
   ]
  },
  {
   "cell_type": "code",
   "execution_count": 7,
   "id": "7bcf0f96-943b-4f23-a293-c30b22025fd3",
   "metadata": {},
   "outputs": [
    {
     "name": "stdout",
     "output_type": "stream",
     "text": [
      "5.0\n",
      "3.14\n"
     ]
    }
   ],
   "source": [
    "x = float(5)  # Converts int to float\n",
    "print(x) \n",
    "\n",
    "y = float(\"3.14\")  # Converts string to float\n",
    "print(y)  "
   ]
  },
  {
   "cell_type": "markdown",
   "id": "10f3b3b3-2c12-45aa-85e9-704ef2c03071",
   "metadata": {},
   "source": [
    "3 str(): Converts a value to a string data type."
   ]
  },
  {
   "cell_type": "code",
   "execution_count": 8,
   "id": "61358c70-0e34-4c7e-9400-0808fc8b11a4",
   "metadata": {},
   "outputs": [
    {
     "name": "stdout",
     "output_type": "stream",
     "text": [
      "10\n",
      "3.14\n"
     ]
    }
   ],
   "source": [
    "x = str(10)  # Converts int to string\n",
    "print(x) \n",
    "\n",
    "y = str(3.14)  # Converts float to string\n",
    "print(y) "
   ]
  },
  {
   "cell_type": "markdown",
   "id": "7feb0c25-ef87-4a14-b7e1-67ba3abcb2bb",
   "metadata": {},
   "source": [
    "4 list(), tuple(), set(): Converts a sequence (like a string or a list) to a list, tuple, or set data type, respectively."
   ]
  },
  {
   "cell_type": "code",
   "execution_count": 9,
   "id": "8e4fa4c7-1071-4cf1-a65f-846205e25293",
   "metadata": {},
   "outputs": [
    {
     "name": "stdout",
     "output_type": "stream",
     "text": [
      "['h', 'e', 'l', 'l', 'o']\n",
      "(1, 2, 3)\n",
      "{1, 2, 3}\n"
     ]
    }
   ],
   "source": [
    "x = list(\"hello\")  # Converts string to list\n",
    "print(x)  \n",
    "\n",
    "y = tuple([1, 2, 3])  # Converts list to tuple\n",
    "print(y)  \n",
    "\n",
    "z = set([1, 2, 2, 3])  # Converts list to set\n",
    "print(z)  \n"
   ]
  },
  {
   "cell_type": "markdown",
   "id": "2f18ec47-918a-4f95-816e-327f777fd90f",
   "metadata": {},
   "source": [
    "These are just a few examples of type conversion functions and methods available in Python. There are additional conversion methods for specific data types, such as dict() to convert a sequence of key-value pairs into a dictionary."
   ]
  },
  {
   "cell_type": "markdown",
   "id": "aa549289-ca4a-482d-a8a0-860a147cf728",
   "metadata": {},
   "source": [
    "#4 Answer"
   ]
  },
  {
   "cell_type": "markdown",
   "id": "833def6a-5e3f-4053-a0f7-5fa4cb1e8e1f",
   "metadata": {},
   "source": [
    "Open a text editor and write your Python code. Save the file with a .py extension, which is the standard extension for Python scripts. For example, let's say you have a script called my_script.py, and it contains the following code:"
   ]
  },
  {
   "cell_type": "code",
   "execution_count": 11,
   "id": "c9742279-ea19-4e66-b56c-8dc87e98354e",
   "metadata": {},
   "outputs": [
    {
     "name": "stdout",
     "output_type": "stream",
     "text": [
      "Hello, World!\n"
     ]
    }
   ],
   "source": [
    "print(\"Hello, World!\")"
   ]
  },
  {
   "cell_type": "markdown",
   "id": "cb266c9e-e6b7-4187-9e9b-b85bbb43a9a2",
   "metadata": {},
   "source": [
    "Open the command line or terminal on your computer.\n",
    "\n",
    "Navigate to the directory where your Python script is saved. You can use the cd command to change directories. For example, if your script is saved in the Documents folder, you can navigate to it like this (assuming you're using Windows):"
   ]
  },
  {
   "cell_type": "raw",
   "id": "219ae66f-cdd0-4bcd-95d6-ce5761e9518f",
   "metadata": {},
   "source": [
    "cd C:\\Users\\YourUsername\\Documents"
   ]
  },
  {
   "cell_type": "markdown",
   "id": "3a53c35d-792a-43c7-9635-6484773d6428",
   "metadata": {},
   "source": [
    "Once you're in the correct directory, you can run the Python script by typing python followed by the script's filename. In our example, you would run:"
   ]
  },
  {
   "cell_type": "raw",
   "id": "a9d7381e-1456-4d32-8edb-a6fba84f2adb",
   "metadata": {},
   "source": [
    "python my_script.py"
   ]
  },
  {
   "cell_type": "markdown",
   "id": "abab62c9-0018-4f07-bdc4-b64d5ad457f2",
   "metadata": {},
   "source": [
    "Press Enter to execute the command. The Python interpreter will read the script file and execute the code. In this case, it will display the output Hello, World! on the command line.\n",
    "That's it! You have written and executed a Python script from the command line. You can modify the script using a text editor and rerun the command to see the updated output."
   ]
  },
  {
   "cell_type": "markdown",
   "id": "b2bc5388-19f1-46e8-856f-9958cdccd2f0",
   "metadata": {},
   "source": [
    "#5 Amswer"
   ]
  },
  {
   "cell_type": "markdown",
   "id": "045b4aef-22c3-4cb2-9826-7e69805edc6f",
   "metadata": {},
   "source": [
    "o slice the list my_list and obtain the sub-list [2, 3], you can use the slice notation in Python. Here's the code to achieve that:"
   ]
  },
  {
   "cell_type": "code",
   "execution_count": 1,
   "id": "d1113ad2-c3df-45fe-8177-6fed5e2a552a",
   "metadata": {},
   "outputs": [
    {
     "name": "stdout",
     "output_type": "stream",
     "text": [
      "[2, 3]\n"
     ]
    }
   ],
   "source": [
    "my_list = [1, 2, 3, 4, 5]\n",
    "sub_list = my_list[1:3]\n",
    "\n",
    "print(sub_list)"
   ]
  },
  {
   "cell_type": "markdown",
   "id": "7a9ff5a8-2cf1-4487-93f4-57c23281fa09",
   "metadata": {},
   "source": [
    "In the code above, we use the slice notation my_list[1:3] to specify the range of indices we want to extract. The starting index is inclusive (1), and the ending index is exclusive (3). Therefore, the elements at indices 1 and 2 (2 and 3) are included in the resulting sub-list.\n",
    "\n",
    "By assigning my_list[1:3] to the variable sub_list, we create a new list containing the desired sub-list. Finally, we print the sub_list to verify the output."
   ]
  },
  {
   "cell_type": "markdown",
   "id": "a33d523d-69f5-49bc-97ad-4f8f5ee5685e",
   "metadata": {},
   "source": [
    "#6 Answer"
   ]
  },
  {
   "cell_type": "markdown",
   "id": "95bad1a6-4549-42cf-9475-0bbca9cb6634",
   "metadata": {},
   "source": [
    "In mathematics, a complex number is a number of the form a + bi, where a and b are real numbers, and i is the imaginary unit, defined as the square root of -1. The real part (a) represents the real component of the complex number, and the imaginary part (b) represents the imaginary component.\n",
    "\n",
    "In Python, complex numbers are represented using the complex data type. The imaginary unit i is represented by j in Python. The complex type can be created by using the syntax a + bj, where a and b are real numbers.\n",
    "\n",
    "Here's an example of creating and working with complex numbers in Python:"
   ]
  },
  {
   "cell_type": "code",
   "execution_count": 3,
   "id": "1d400a11-48fa-4f6b-b5b9-462ed64609be",
   "metadata": {},
   "outputs": [
    {
     "name": "stdout",
     "output_type": "stream",
     "text": [
      "(3+4j)\n",
      "(2-1j)\n",
      "3.0\n",
      "4.0\n",
      "(5+3j)\n",
      "(10+5j)\n"
     ]
    }
   ],
   "source": [
    "# Creating complex numbers\n",
    "z1 = 3 + 4j\n",
    "z2 = complex(2, -1)\n",
    "\n",
    "# Printing complex numbers\n",
    "print(z1) \n",
    "print(z2) \n",
    "\n",
    "# Accessing real and imaginary parts\n",
    "print(z1.real)  \n",
    "print(z1.imag) \n",
    "\n",
    "# Performing operations with complex numbers\n",
    "z3 = z1 + z2\n",
    "z4 = z1 * z2\n",
    "\n",
    "print(z3)  \n",
    "print(z4) "
   ]
  },
  {
   "cell_type": "markdown",
   "id": "df3975d8-a5a1-4e54-a94a-2ffeba8168fe",
   "metadata": {},
   "source": [
    "In the above example, we create two complex numbers z1 and z2 using both the direct syntax and the complex() function. We print the complex numbers, and then access their real and imaginary parts using the real and imag attributes.\n",
    "\n",
    "We also perform arithmetic operations on complex numbers. Addition and multiplication of complex numbers are performed element-wise, just like with real numbers.\n",
    "\n",
    "Complex numbers are useful in various mathematical calculations, such as representing electrical signals, working with Fourier analysis, solving certain equations, and more. Python's built-in support for complex numbers makes it convenient to work with them in scientific and mathematical applications."
   ]
  },
  {
   "cell_type": "markdown",
   "id": "7a566e57-c791-42ff-b572-83a9153cf47d",
   "metadata": {},
   "source": [
    "#7 Answer"
   ]
  },
  {
   "cell_type": "markdown",
   "id": "267fdbd3-e752-4910-9a1e-45feac76c790",
   "metadata": {},
   "source": [
    "The correct way to declare a variable named age and assign the value 25 to it in Python is as follows:"
   ]
  },
  {
   "cell_type": "code",
   "execution_count": 4,
   "id": "3c467ba4-d2bb-4df0-85bc-28a8404bccf0",
   "metadata": {},
   "outputs": [],
   "source": [
    "age = 25"
   ]
  },
  {
   "cell_type": "markdown",
   "id": "7c535725-bdca-4db5-8b7e-c94898037bab",
   "metadata": {},
   "source": [
    "In the code above, the variable age is declared by using the variable name age on the left-hand side of the assignment operator (=). On the right-hand side of the assignment operator, the value 25 is assigned to the age variable.\n",
    "\n",
    "Python is a dynamically typed language, which means you don't need to explicitly declare the type of the variable. The type of the variable is inferred based on the value assigned to it. In this case, since we assign an integer value (25), the age variable will be of type int.\n",
    "\n",
    "After executing the assignment statement, the variable age holds the value 25, which can be used in subsequent parts of the code."
   ]
  },
  {
   "cell_type": "markdown",
   "id": "3ae62f79-3c2f-418d-b822-9062472f3c57",
   "metadata": {},
   "source": [
    "#8 Answer"
   ]
  },
  {
   "cell_type": "code",
   "execution_count": 7,
   "id": "2a22bbe9-3774-489f-937c-14393b03e62c",
   "metadata": {},
   "outputs": [
    {
     "data": {
      "text/plain": [
       "float"
      ]
     },
     "execution_count": 7,
     "metadata": {},
     "output_type": "execute_result"
    }
   ],
   "source": [
    "price=9.99\n",
    "type(price)"
   ]
  },
  {
   "cell_type": "markdown",
   "id": "8fcc40fb-7a9c-4186-8ac9-e5dd2efa3977",
   "metadata": {},
   "source": [
    "In the above code the variable name is \"price\" and its value is 9.99.\n",
    "The type of the given variable is float."
   ]
  },
  {
   "cell_type": "markdown",
   "id": "33071240-8c54-40f3-bb91-9348c3de4c9a",
   "metadata": {},
   "source": [
    "#9 Answer"
   ]
  },
  {
   "cell_type": "code",
   "execution_count": 10,
   "id": "7c872688-8956-499b-b7e6-d1b77bae63de",
   "metadata": {},
   "outputs": [
    {
     "name": "stdout",
     "output_type": "stream",
     "text": [
      "Balaji Uma Mahesh\n"
     ]
    }
   ],
   "source": [
    "name=\"Balaji Uma Mahesh\"\n",
    "print(name)"
   ]
  },
  {
   "cell_type": "markdown",
   "id": "b6fd7c43-1731-42c4-b442-794f9ce10d55",
   "metadata": {},
   "source": [
    "In the above code name is a variable it assign a string.\n",
    "And then its print the value of the variable"
   ]
  },
  {
   "cell_type": "markdown",
   "id": "d35ad18a-1462-4544-ae8b-40bf4c294dc6",
   "metadata": {},
   "source": [
    "#10 Answer"
   ]
  },
  {
   "cell_type": "code",
   "execution_count": 23,
   "id": "11a7c13b-280e-4065-ace4-426d47c55afe",
   "metadata": {},
   "outputs": [
    {
     "name": "stdout",
     "output_type": "stream",
     "text": [
      "World\n"
     ]
    }
   ],
   "source": [
    "text = \"Hello, World!\"\n",
    "substring = text[7:12]\n",
    "print(substring)"
   ]
  },
  {
   "cell_type": "markdown",
   "id": "31382cb5-a62d-4faa-bc44-6d5a7ed776e3",
   "metadata": {},
   "source": [
    "#11 Answer"
   ]
  },
  {
   "cell_type": "code",
   "execution_count": null,
   "id": "91770988-c821-485f-add4-3d67babb952b",
   "metadata": {},
   "outputs": [],
   "source": [
    "is_student = True  # Set to True if you are currently a student, otherwise set to False\n",
    "\n",
    "print(is_student)\n"
   ]
  }
 ],
 "metadata": {
  "kernelspec": {
   "display_name": "Python 3 (ipykernel)",
   "language": "python",
   "name": "python3"
  },
  "language_info": {
   "codemirror_mode": {
    "name": "ipython",
    "version": 3
   },
   "file_extension": ".py",
   "mimetype": "text/x-python",
   "name": "python",
   "nbconvert_exporter": "python",
   "pygments_lexer": "ipython3",
   "version": "3.10.8"
  }
 },
 "nbformat": 4,
 "nbformat_minor": 5
}
